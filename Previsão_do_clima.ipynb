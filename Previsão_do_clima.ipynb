{
  "cells": [
    {
      "cell_type": "code",
      "execution_count": 1,
      "metadata": {
        "id": "szgjG2NFBW9r"
      },
      "outputs": [],
      "source": [
        "from sklearn import preprocessing\n",
        "from sklearn.model_selection import train_test_split\n",
        "import pandas as pd\n",
        "import numpy as np\n",
        "from sklearn.model_selection import train_test_split\n",
        "from keras.models import Sequential\n",
        "from keras.layers import Dense\n",
        "import matplotlib.pyplot as plt"
      ]
    },
    {
      "cell_type": "code",
      "execution_count": 3,
      "metadata": {
        "id": "9WBGBLmPCnxI"
      },
      "outputs": [],
      "source": [
        "#dataframe = pd.read_csv('DataSet\\GlobalLandTemperaturesByCity.csv',index_col=False)"
      ]
    },
    {
      "cell_type": "code",
      "execution_count": 4,
      "metadata": {
        "id": "DCrP-lVyC7bY"
      },
      "outputs": [],
      "source": [
        "#Encontra todas as linhas que possuem qualquer valor nulo e as exclue, essa ação foi tomada pois temos uma grande massa de dados#\n",
        "linhas_nulas = dataframe.isnull().any(axis=1)\n",
        "#Esta é a indexação condicional.\n",
        "#Estamos usando a série booleana ~linhas_nulas como máscara booleana para indexar o DataFrame.\n",
        "#Isso significa que apenas as linhas em que ~linhas_nulas é True (ou seja, as linhas que não contêm valores nulos)\n",
        "dataframe = dataframe[~linhas_nulas]"
      ]
    },
    {
      "cell_type": "code",
      "execution_count": 5,
      "metadata": {
        "id": "8cBtRNtIHDJK"
      },
      "outputs": [],
      "source": [
        "city = dataframe['City'].values\n",
        "country = dataframe['Country'].values\n",
        "dt = dataframe['dt'].values"
      ]
    },
    {
      "cell_type": "code",
      "execution_count": 6,
      "metadata": {
        "id": "pFBSzIUAEcAf"
      },
      "outputs": [],
      "source": [
        "encoder = preprocessing.OrdinalEncoder()\n",
        "country_encoder = encoder.fit_transform(country.reshape(-1,1))\n",
        "dataframe['Country_OrdinalEncoder'] = country_encoder"
      ]
    },
    {
      "cell_type": "code",
      "execution_count": 7,
      "metadata": {
        "id": "PDBnZphhHVQ4"
      },
      "outputs": [],
      "source": [
        "encoder = preprocessing.OrdinalEncoder()\n",
        "city_encoder = encoder.fit_transform(city.reshape(-1,1))\n",
        "dataframe['City_OrdinalEncoder'] = city_encoder"
      ]
    },
    {
      "cell_type": "code",
      "execution_count": 8,
      "metadata": {
        "id": "wS8E0GdaN1bf"
      },
      "outputs": [],
      "source": [
        "encoder = preprocessing.OrdinalEncoder()\n",
        "dt_encoder = encoder.fit_transform(dt.reshape(-1,1))\n",
        "dataframe['dt_OrdinalEncoder'] = dt_encoder"
      ]
    },
    {
      "cell_type": "code",
      "execution_count": 9,
      "metadata": {
        "id": "0zwrEyTXJKmh"
      },
      "outputs": [],
      "source": [
        "dataframe.drop(['dt','City','Country','AverageTemperatureUncertainty','Latitude','Longitude'], axis=1, inplace=True)"
      ]
    },
    {
      "cell_type": "code",
      "execution_count": 10,
      "metadata": {
        "colab": {
          "base_uri": "https://localhost:8080/",
          "height": 423
        },
        "id": "YKNfKNlMN9q_",
        "outputId": "c3c0b4ee-945f-41f3-d104-66f6874411ff"
      },
      "outputs": [
        {
          "data": {
            "text/html": [
              "<div>\n",
              "<style scoped>\n",
              "    .dataframe tbody tr th:only-of-type {\n",
              "        vertical-align: middle;\n",
              "    }\n",
              "\n",
              "    .dataframe tbody tr th {\n",
              "        vertical-align: top;\n",
              "    }\n",
              "\n",
              "    .dataframe thead th {\n",
              "        text-align: right;\n",
              "    }\n",
              "</style>\n",
              "<table border=\"1\" class=\"dataframe\">\n",
              "  <thead>\n",
              "    <tr style=\"text-align: right;\">\n",
              "      <th></th>\n",
              "      <th>AverageTemperature</th>\n",
              "      <th>Country_OrdinalEncoder</th>\n",
              "      <th>City_OrdinalEncoder</th>\n",
              "      <th>dt_OrdinalEncoder</th>\n",
              "    </tr>\n",
              "  </thead>\n",
              "  <tbody>\n",
              "    <tr>\n",
              "      <th>0</th>\n",
              "      <td>6.068</td>\n",
              "      <td>39.0</td>\n",
              "      <td>3443.0</td>\n",
              "      <td>0.0</td>\n",
              "    </tr>\n",
              "    <tr>\n",
              "      <th>5</th>\n",
              "      <td>5.788</td>\n",
              "      <td>39.0</td>\n",
              "      <td>3443.0</td>\n",
              "      <td>1.0</td>\n",
              "    </tr>\n",
              "    <tr>\n",
              "      <th>6</th>\n",
              "      <td>10.644</td>\n",
              "      <td>39.0</td>\n",
              "      <td>3443.0</td>\n",
              "      <td>2.0</td>\n",
              "    </tr>\n",
              "    <tr>\n",
              "      <th>7</th>\n",
              "      <td>14.051</td>\n",
              "      <td>39.0</td>\n",
              "      <td>3443.0</td>\n",
              "      <td>3.0</td>\n",
              "    </tr>\n",
              "    <tr>\n",
              "      <th>8</th>\n",
              "      <td>16.082</td>\n",
              "      <td>39.0</td>\n",
              "      <td>3443.0</td>\n",
              "      <td>4.0</td>\n",
              "    </tr>\n",
              "    <tr>\n",
              "      <th>...</th>\n",
              "      <td>...</td>\n",
              "      <td>...</td>\n",
              "      <td>...</td>\n",
              "      <td>...</td>\n",
              "    </tr>\n",
              "    <tr>\n",
              "      <th>8599206</th>\n",
              "      <td>7.710</td>\n",
              "      <td>100.0</td>\n",
              "      <td>3442.0</td>\n",
              "      <td>3161.0</td>\n",
              "    </tr>\n",
              "    <tr>\n",
              "      <th>8599207</th>\n",
              "      <td>11.464</td>\n",
              "      <td>100.0</td>\n",
              "      <td>3442.0</td>\n",
              "      <td>3162.0</td>\n",
              "    </tr>\n",
              "    <tr>\n",
              "      <th>8599208</th>\n",
              "      <td>15.043</td>\n",
              "      <td>100.0</td>\n",
              "      <td>3442.0</td>\n",
              "      <td>3163.0</td>\n",
              "    </tr>\n",
              "    <tr>\n",
              "      <th>8599209</th>\n",
              "      <td>18.775</td>\n",
              "      <td>100.0</td>\n",
              "      <td>3442.0</td>\n",
              "      <td>3164.0</td>\n",
              "    </tr>\n",
              "    <tr>\n",
              "      <th>8599210</th>\n",
              "      <td>18.025</td>\n",
              "      <td>100.0</td>\n",
              "      <td>3442.0</td>\n",
              "      <td>3165.0</td>\n",
              "    </tr>\n",
              "  </tbody>\n",
              "</table>\n",
              "<p>8235082 rows × 4 columns</p>\n",
              "</div>"
            ],
            "text/plain": [
              "         AverageTemperature  Country_OrdinalEncoder  City_OrdinalEncoder  \\\n",
              "0                     6.068                    39.0               3443.0   \n",
              "5                     5.788                    39.0               3443.0   \n",
              "6                    10.644                    39.0               3443.0   \n",
              "7                    14.051                    39.0               3443.0   \n",
              "8                    16.082                    39.0               3443.0   \n",
              "...                     ...                     ...                  ...   \n",
              "8599206               7.710                   100.0               3442.0   \n",
              "8599207              11.464                   100.0               3442.0   \n",
              "8599208              15.043                   100.0               3442.0   \n",
              "8599209              18.775                   100.0               3442.0   \n",
              "8599210              18.025                   100.0               3442.0   \n",
              "\n",
              "         dt_OrdinalEncoder  \n",
              "0                      0.0  \n",
              "5                      1.0  \n",
              "6                      2.0  \n",
              "7                      3.0  \n",
              "8                      4.0  \n",
              "...                    ...  \n",
              "8599206             3161.0  \n",
              "8599207             3162.0  \n",
              "8599208             3163.0  \n",
              "8599209             3164.0  \n",
              "8599210             3165.0  \n",
              "\n",
              "[8235082 rows x 4 columns]"
            ]
          },
          "execution_count": 10,
          "metadata": {},
          "output_type": "execute_result"
        }
      ],
      "source": [
        "dataframe"
      ]
    }
  ],
  "metadata": {
    "colab": {
      "provenance": []
    },
    "kernelspec": {
      "display_name": "Python 3",
      "name": "python3"
    },
    "language_info": {
      "codemirror_mode": {
        "name": "ipython",
        "version": 3
      },
      "file_extension": ".py",
      "mimetype": "text/x-python",
      "name": "python",
      "nbconvert_exporter": "python",
      "pygments_lexer": "ipython3",
      "version": "3.11.4"
    }
  },
  "nbformat": 4,
  "nbformat_minor": 0
}
