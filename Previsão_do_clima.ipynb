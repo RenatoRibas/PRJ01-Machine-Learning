{
  "cells": [
    {
      "cell_type": "code",
      "execution_count": null,
      "metadata": {},
      "outputs": [],
      "source": [
        "from sklearn import preprocessing\n",
        "from sklearn.model_selection import train_test_split\n",
        "import pandas as pd\n",
        "import numpy as np\n",
        "from sklearn.model_selection import train_test_split\n",
        "from keras.models import Sequential\n",
        "from keras.layers import Dense\n",
        "import matplotlib.pyplot as plt"
      ]
    },
    {
      "cell_type": "code",
      "execution_count": null,
      "metadata": {
        "id": "9WBGBLmPCnxI"
      },
      "outputs": [],
      "source": [
        "dataframe = pd.read_csv('DataSet\\GlobalLandTemperaturesByCity.csv',index_col=False)"
      ]
    },
    {
      "cell_type": "code",
      "execution_count": null,
      "metadata": {},
      "outputs": [],
      "source": [
        "dataframe"
      ]
    },
    {
      "cell_type": "code",
      "execution_count": null,
      "metadata": {
        "id": "DCrP-lVyC7bY"
      },
      "outputs": [],
      "source": [
        "#Encontra todas as linhas que possuem qualquer valor nulo e as exclue, essa ação foi tomada pois temos uma grande massa de dados#\n",
        "linhas_nulas = dataframe.isnull().any(axis=1)\n",
        "#Esta é a indexação condicional.\n",
        "#Estamos usando a série booleana ~linhas_nulas como máscara booleana para indexar o DataFrame.\n",
        "#Isso significa que apenas as linhas em que ~linhas_nulas é True (ou seja, as linhas que não contêm valores nulos)\n",
        "dataframe = dataframe[~linhas_nulas]"
      ]
    },
    {
      "cell_type": "code",
      "execution_count": null,
      "metadata": {
        "id": "8cBtRNtIHDJK"
      },
      "outputs": [],
      "source": [
        "city = dataframe['City'].values\n",
        "country = dataframe['Country'].values\n",
        "dt = dataframe['dt'].values"
      ]
    },
    {
      "cell_type": "code",
      "execution_count": null,
      "metadata": {},
      "outputs": [],
      "source": [
        "dataframe"
      ]
    },
    {
      "cell_type": "code",
      "execution_count": null,
      "metadata": {
        "id": "pFBSzIUAEcAf"
      },
      "outputs": [],
      "source": [
        "encoder = preprocessing.OrdinalEncoder()\n",
        "country_encoder = encoder.fit_transform(country.reshape(-1,1))\n",
        "dataframe['Country_OrdinalEncoder'] = country_encoder"
      ]
    },
    {
      "cell_type": "code",
      "execution_count": null,
      "metadata": {},
      "outputs": [],
      "source": [
        "city_encoder = encoder.fit_transform(city.reshape(-1,1))\n",
        "dataframe['City_OrdinalEncoder'] = city_encoder"
      ]
    },
    {
      "cell_type": "code",
      "execution_count": null,
      "metadata": {
        "id": "wS8E0GdaN1bf"
      },
      "outputs": [],
      "source": [
        "dt_encoder = encoder.fit_transform(dt.reshape(-1,1))\n",
        "dataframe['dt_OrdinalEncoder'] = dt_encoder"
      ]
    },
    {
      "cell_type": "code",
      "execution_count": null,
      "metadata": {
        "id": "0zwrEyTXJKmh"
      },
      "outputs": [],
      "source": [
        "#Exclui as \n",
        "dataframe.drop(['dt','City','Country','AverageTemperatureUncertainty','Latitude','Longitude'], axis=1, inplace=True)"
      ]
    },
    {
      "cell_type": "code",
      "execution_count": null,
      "metadata": {
        "colab": {
          "base_uri": "https://localhost:8080/",
          "height": 423
        },
        "id": "YKNfKNlMN9q_",
        "outputId": "c3c0b4ee-945f-41f3-d104-66f6874411ff"
      },
      "outputs": [],
      "source": [
        "dataframe"
      ]
    },
    {
      "cell_type": "code",
      "execution_count": null,
      "metadata": {},
      "outputs": [],
      "source": [
        "    # Dividindo os dados para treino e teste\n",
        "    x = dataframe.drop('AverageTemperature', axis=1)\n",
        "    y = dataframe['AverageTemperature']\n",
        "    x_train, x_test, y_train, y_test = train_test_split(x, y, test_size=0.2, random_state=42)"
      ]
    },
    {
      "cell_type": "code",
      "execution_count": null,
      "metadata": {},
      "outputs": [],
      "source": [
        "# Criando a reed neural\n",
        "\n",
        "model = Sequential()\n",
        "model.add(Dense(16, input_dim=3, activation='relu'))\n",
        "model.add(Dense(8, input_dim=3, activation='relu'))\n",
        "model.add(Dense(1, activation='linear')) # saída linear"
      ]
    },
    {
      "cell_type": "code",
      "execution_count": null,
      "metadata": {},
      "outputs": [],
      "source": [
        "# Compilando modelo\n",
        "model.compile(loss='mean_squared_error', optimizer='adam', metrics=['mae'])"
      ]
    },
    {
      "cell_type": "code",
      "execution_count": null,
      "metadata": {},
      "outputs": [],
      "source": [
        "# Treinando a rede neural\n",
        "history = model.fit(x_train,y_train,epochs=100,batch_size=32,verbose=2,validation_data=(x_test, y_test))"
      ]
    },
    {
      "cell_type": "code",
      "execution_count": null,
      "metadata": {},
      "outputs": [],
      "source": [
        "# Plotando o histórico de perda\n",
        "\n",
        "plt.figure(figsize=(12, 6))\n",
        "plt.subplot(1,2,1)\n",
        "plt.plot(history.history['loss'], label='Training Loss')\n",
        "plt.plot(history.history['val_loss'], label='Validation Loss')\n",
        "plt.title('Histórico de loss')\n",
        "plt.xlabel('Épocas')\n",
        "plt.ylabel('Loss')\n",
        "plt.legend()\n",
        "\n",
        "# Plotando o histórico de acurácia\n",
        "\n",
        "plt.figure(figsize=(12, 6))\n",
        "plt.subplot(1,2,1)\n",
        "plt.plot(history.history['mae'], label='Training MAE')\n",
        "plt.plot(history.history['val_mae'], label='Validation MAE')\n",
        "plt.title('Histórico de Acurácia')\n",
        "plt.xlabel('Épocas')\n",
        "plt.ylabel('MAE')\n",
        "plt.legend()\n",
        "\n",
        "plt.tight_layout()\n",
        "plt.show()"
      ]
    }
  ],
  "metadata": {
    "colab": {
      "provenance": []
    },
    "kernelspec": {
      "display_name": "Python 3",
      "name": "python3"
    },
    "language_info": {
      "codemirror_mode": {
        "name": "ipython",
        "version": 3
      },
      "file_extension": ".py",
      "mimetype": "text/x-python",
      "name": "python",
      "nbconvert_exporter": "python",
      "pygments_lexer": "ipython3",
      "version": "3.11.4"
    }
  },
  "nbformat": 4,
  "nbformat_minor": 0
}
